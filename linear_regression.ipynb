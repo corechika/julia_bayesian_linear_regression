{
 "cells": [
  {
   "cell_type": "markdown",
   "metadata": {},
   "source": [
    "### ベイズ推論の線形回帰"
   ]
  },
  {
   "cell_type": "code",
   "execution_count": null,
   "metadata": {},
   "outputs": [],
   "source": [
    "using LinearAlgebra\n",
    "using Distributions\n",
    "using Plots\n",
    "gr()"
   ]
  },
  {
   "cell_type": "code",
   "execution_count": null,
   "metadata": {},
   "outputs": [],
   "source": [
    "M = 4 # dimensions\n",
    "N = 100\n",
    "x = range(-1, 1, length=N)"
   ]
  },
  {
   "cell_type": "code",
   "execution_count": null,
   "metadata": {},
   "outputs": [],
   "source": [
    "lambda = 10\n",
    "epsilon = Normal(0, lambda^(-1))\n",
    "\n",
    "# weight\n",
    "m = zeros(M)\n",
    "l_lambda = zeros(M, M)\n",
    "\n",
    "for i in 1:M\n",
    "    l_lambda[i, i] = 1\n",
    "end\n",
    "\n",
    "ep = rand(epsilon, N)\n",
    "plot(ep, seriestype=:scatter)"
   ]
  },
  {
   "cell_type": "code",
   "execution_count": null,
   "metadata": {},
   "outputs": [],
   "source": [
    "# calc weight\n",
    "w = []\n",
    "for j in 1:M\n",
    "    dist_w = Normal(m[j], l_lambda[j, j]^(-1))\n",
    "    w = rand(dist_w, 1)[1]\n",
    "end\n",
    "\n",
    "y = []\n",
    "for i in 1:N\n",
    "    input = [1, x[i], x[i]^2, x[i]^3]\n",
    "    y_buff = 0\n",
    "    for j in 1:M\n",
    "        y_buff += (input[j] * w)\n",
    "    end\n",
    "    dist_y = Normal(y_buff, lambda^(-1))\n",
    "    push!(y, rand(dist_y, 1)[1]+ep[i])\n",
    "end\n",
    "\n",
    "# r = range(-1, 1, length=100)\n",
    "plot(x, y, seriestype=:scatter)"
   ]
  },
  {
   "cell_type": "markdown",
   "metadata": {},
   "source": [
    "### 事後分布\n",
    "\n",
    "$$ p(\\vec{w}|\\vec{Y},\\vec{X})=N(\\vec{w}|\\vec{\\hat{m}},\\vec{\\hat{\\Lambda}}^{-1}) $$\n",
    "$$ \\vec{\\hat{\\Lambda}}^{-1} = \\lambda \\sum^{N}_{n=1} \\vec{x}_{n}\\vec{x}^{T}_{n} + \\vec{\\Lambda} $$\n",
    "$$ \\vec{\\hat{m}} = \\vec{\\hat{\\Lambda}}^{-1}(\\lambda \\sum^{N}_{n=1} y_{n}\\vec{x}_{n} + \\vec{\\Lambda}\\vec{m}) $$"
   ]
  },
  {
   "cell_type": "code",
   "execution_count": null,
   "metadata": {},
   "outputs": [],
   "source": [
    "# calculation l_lambda_hat\n",
    "sum_x = 0\n",
    "for i in 1:N\n",
    "    input = [1 x[i] x[i]^2 x[i]^3]\n",
    "    sum_x = sum_x + (input * input')[1]\n",
    "end\n",
    "println(\"sum_x:\", sum_x)\n",
    "\n",
    "l_lambda_hat = lambda * sum_x .+ l_lambda\n",
    "print(\"l_lambda_hat:\", l_lambda_hat)"
   ]
  },
  {
   "cell_type": "code",
   "execution_count": null,
   "metadata": {},
   "outputs": [],
   "source": [
    "# calculation m_hat\n",
    "sum_xy = zeros(M)\n",
    "for i in 1:N\n",
    "    input = [1, x[i], x[i]^2, x[i]^3]\n",
    "    sum_xy = y[i] * input .+ sum_xy\n",
    "end\n",
    "println(\"sum_xy:\", sum_xy)\n",
    "\n",
    "m_hat = inv(l_lambda_hat) * ((lambda * sum_xy) + (l_lambda * m))\n",
    "print(m_hat)"
   ]
  },
  {
   "cell_type": "code",
   "execution_count": null,
   "metadata": {},
   "outputs": [],
   "source": [
    "# calc weight\n",
    "w = []\n",
    "for j in 1:M\n",
    "    dist_w = Normal(m_hat[j], l_lambda_hat[j, j]^(-1))\n",
    "    w = rand(dist_w, 1)[1]\n",
    "end"
   ]
  }
 ],
 "metadata": {
  "kernelspec": {
   "display_name": "Julia 1.1.0",
   "language": "julia",
   "name": "julia-1.1"
  },
  "language_info": {
   "file_extension": ".jl",
   "mimetype": "application/julia",
   "name": "julia",
   "version": "1.1.0"
  }
 },
 "nbformat": 4,
 "nbformat_minor": 2
}
