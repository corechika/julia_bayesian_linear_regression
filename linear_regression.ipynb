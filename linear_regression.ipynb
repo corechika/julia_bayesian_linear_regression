{
 "cells": [
  {
   "cell_type": "markdown",
   "metadata": {},
   "source": [
    "### ベイズ推論の線形回帰"
   ]
  },
  {
   "cell_type": "code",
   "execution_count": null,
   "metadata": {},
   "outputs": [],
   "source": [
    "using Distributions\n",
    "using Plots\n",
    "gr()"
   ]
  },
  {
   "cell_type": "code",
   "execution_count": null,
   "metadata": {},
   "outputs": [],
   "source": [
    "M = 4 # dimensions\n",
    "N = 100\n",
    "x = range(-1, 1, length=N)"
   ]
  },
  {
   "cell_type": "code",
   "execution_count": null,
   "metadata": {},
   "outputs": [],
   "source": [
    "lambda = 10\n",
    "epsilon = Normal(0, lambda^(-1))\n",
    "\n",
    "ep = rand(epsilon, N)\n",
    "plot(ep, seriestype=:scatter)"
   ]
  },
  {
   "cell_type": "code",
   "execution_count": null,
   "metadata": {},
   "outputs": [],
   "source": [
    "# weight\n",
    "m = zeros(M)\n",
    "l_lambda = zeros(M, M)\n",
    "\n",
    "for i in 1:M\n",
    "    l_lambda[i, i] = 1\n",
    "end\n",
    "\n",
    "y = []\n",
    "for i in 1:N\n",
    "    input = [1, x[i], x[i]^2, x[i]^3]\n",
    "    w = []\n",
    "    y_buff = 0\n",
    "    for j in 1:M\n",
    "        dist_w = Normal(m[j], l_lambda[j, j]^(-1))\n",
    "        w = pdf.(dist_w, x[i])\n",
    "        y_buff += (input[j] * w)\n",
    "    end\n",
    "    \n",
    "    dist_y = Normal(y_buff, lambda^(-1))\n",
    "    push!(y, rand(dist_y, 1)[1]+ep[i])\n",
    "end\n",
    "\n",
    "# r = range(-1, 1, length=100)\n",
    "plot(x, y, seriestype=:scatter)"
   ]
  }
 ],
 "metadata": {
  "kernelspec": {
   "display_name": "Julia 1.1.0",
   "language": "julia",
   "name": "julia-1.1"
  },
  "language_info": {
   "file_extension": ".jl",
   "mimetype": "application/julia",
   "name": "julia",
   "version": "1.1.0"
  }
 },
 "nbformat": 4,
 "nbformat_minor": 2
}
