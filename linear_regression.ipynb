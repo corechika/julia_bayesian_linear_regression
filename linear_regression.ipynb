{
 "cells": [
  {
   "cell_type": "markdown",
   "metadata": {},
   "source": [
    "# ベイズ推論による機械学習入門\n",
    "## 3.5 線型回帰"
   ]
  },
  {
   "cell_type": "markdown",
   "metadata": {},
   "source": [
    "### Example"
   ]
  },
  {
   "cell_type": "code",
   "execution_count": null,
   "metadata": {},
   "outputs": [],
   "source": [
    "using LinearAlgebra\n",
    "using Distributions\n",
    "using Plots\n",
    "gr()"
   ]
  },
  {
   "cell_type": "code",
   "execution_count": null,
   "metadata": {},
   "outputs": [],
   "source": [
    "M = 4 # dimensions\n",
    "N = 100\n",
    "xmin = -1\n",
    "xmax = 1\n",
    "x = range(xmin, xmax, length=N)\n",
    "x_sample = xmin .+ (xmax-xmin) .* rand(10)\n",
    "\n",
    "lambda = 10\n",
    "epsilon = Normal(0, lambda^(-1))\n",
    "\n",
    "# weight\n",
    "m = zeros(M)\n",
    "l_lambda = Matrix{Float64}(I, 4, 4)"
   ]
  },
  {
   "cell_type": "code",
   "execution_count": null,
   "metadata": {},
   "outputs": [],
   "source": [
    "# generate noise\n",
    "ep = rand(epsilon, N)\n",
    "plot(ep, seriestype=:scatter)"
   ]
  },
  {
   "cell_type": "code",
   "execution_count": null,
   "metadata": {},
   "outputs": [],
   "source": [
    "# smapling weight\n",
    "w = []\n",
    "l_lambda_inv = inv(l_lambda)\n",
    "for j in 1:M\n",
    "    dist_w = Normal(m[j], l_lambda_inv[j, j])\n",
    "    push!(w, rand(dist_w, 1)[1])\n",
    "end\n",
    "println(\"w:\", w)"
   ]
  },
  {
   "cell_type": "code",
   "execution_count": null,
   "metadata": {},
   "outputs": [],
   "source": [
    "# plot data\n",
    "y_true = []\n",
    "y_line = []\n",
    "\n",
    "# true distribution\n",
    "for i in 1:N\n",
    "    input = [1, x[i], x[i]^2, x[i]^3]\n",
    "    y_buff = dot(input, w)\n",
    "    push!(y_line, y_buff)\n",
    "end\n",
    "\n",
    "# measured data\n",
    "for i in 1:10\n",
    "    input = [1, x_sample[i], x_sample[i]^2, x_sample[i]^3]\n",
    "    dist_y = Normal(dot(input, w), lambda^(-1))\n",
    "    push!(y_true, rand(dist_y, 1)[1]+ep[i])\n",
    "end\n",
    "\n",
    "plot(x, y_line, label=\"true\")\n",
    "plot!(x_sample, y_true, seriestype=:scatter, label=\"measured\")"
   ]
  },
  {
   "cell_type": "markdown",
   "metadata": {},
   "source": [
    "----\n",
    "### 事後分布\n",
    "\n",
    "$$ p(\\vec{w}|\\vec{Y},\\vec{X})=N(\\vec{w}|\\vec{\\hat{m}},\\vec{\\hat{\\Lambda}}^{-1}) $$\n",
    "$$ \\vec{\\hat{\\Lambda}} = \\lambda \\sum^{N}_{n=1} \\vec{x}_{n}\\vec{x}^{T}_{n} + \\vec{\\Lambda} $$\n",
    "$$ \\vec{\\hat{m}} = \\vec{\\hat{\\Lambda}}^{-1} \\lambda (\\sum^{N}_{n=1} y_{n}\\vec{x}_{n} + \\vec{\\Lambda}\\vec{m}) $$"
   ]
  },
  {
   "cell_type": "code",
   "execution_count": null,
   "metadata": {},
   "outputs": [],
   "source": [
    "println(\"lambda:\", lambda)\n",
    "l_lambda"
   ]
  },
  {
   "cell_type": "code",
   "execution_count": null,
   "metadata": {},
   "outputs": [],
   "source": [
    "# calculation large lambda hat\n",
    "input = [1, x_sample[1:end], x_sample[1:end].^2, x_sample[1:end].^3]\n",
    "sum_x = sum(dot(input, input))\n",
    "println(\"sum_x:\", sum_x)\n",
    "\n",
    "l_lambda_hat = lambda * sum_x .+ l_lambda\n",
    "l_lambda_hat"
   ]
  },
  {
   "cell_type": "code",
   "execution_count": null,
   "metadata": {},
   "outputs": [],
   "source": [
    "inv(l_lambda_hat)"
   ]
  },
  {
   "cell_type": "code",
   "execution_count": null,
   "metadata": {},
   "outputs": [],
   "source": [
    "# calculation m_hat\n",
    "sum_xy = zeros(M)\n",
    "for (i, xm) in enumerate(x_sample)\n",
    "    input = [1, xm, xm^2, xm^3]\n",
    "    sum_xy = y_true[i] * input .+ sum_xy\n",
    "end\n",
    "println(\"sum_xy:\", sum_xy)\n",
    "\n",
    "m_hat = inv(l_lambda_hat) * lambda * sum_xy + l_lambda * m\n",
    "print(\"m_hat:\", m_hat)"
   ]
  },
  {
   "cell_type": "code",
   "execution_count": null,
   "metadata": {},
   "outputs": [],
   "source": [
    "lambda * sum_xy"
   ]
  },
  {
   "cell_type": "code",
   "execution_count": null,
   "metadata": {},
   "outputs": [],
   "source": [
    "# calc weight\n",
    "println(\"w_true:\", w)\n",
    "w_pred = []\n",
    "l_lambda_hat_inv = inv(l_lambda_hat)\n",
    "for j in 1:M\n",
    "    dist_w = Normal(m_hat[j], l_lambda_hat_inv[j, j])\n",
    "    push!(w_pred, rand(dist_w, 1)[1])\n",
    "end\n",
    "println(\"w_pred:\", w_pred)"
   ]
  },
  {
   "cell_type": "code",
   "execution_count": null,
   "metadata": {},
   "outputs": [],
   "source": [
    "y_pred_line = []\n",
    "for i in 1:N\n",
    "    input = [1, x[i], x[i]^2, x[i]^3]\n",
    "    y_buff = dot(input, w_pred)\n",
    "    push!(y_pred_line, y_buff)\n",
    "end\n",
    "\n",
    "plot!(x, y_pred_line, seriescolor=:green, label=\"predict\")"
   ]
  },
  {
   "cell_type": "markdown",
   "metadata": {},
   "source": [
    "----\n",
    "### 予測分布"
   ]
  },
  {
   "cell_type": "code",
   "execution_count": null,
   "metadata": {},
   "outputs": [],
   "source": []
  }
 ],
 "metadata": {
  "kernelspec": {
   "display_name": "Julia 1.4.2",
   "language": "julia",
   "name": "julia-1.4"
  },
  "language_info": {
   "file_extension": ".jl",
   "mimetype": "application/julia",
   "name": "julia",
   "version": "1.4.2"
  }
 },
 "nbformat": 4,
 "nbformat_minor": 4
}
