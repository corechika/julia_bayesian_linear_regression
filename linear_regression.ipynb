{
 "cells": [
  {
   "cell_type": "markdown",
   "metadata": {},
   "source": [
    "# ベイズ推論による機械学習入門\n",
    "## 3.5 線型回帰"
   ]
  },
  {
   "cell_type": "markdown",
   "metadata": {},
   "source": [
    "### Example"
   ]
  },
  {
   "cell_type": "code",
   "execution_count": null,
   "metadata": {},
   "outputs": [],
   "source": [
    "using LinearAlgebra\n",
    "using Distributions\n",
    "using Plots\n",
    "gr()"
   ]
  },
  {
   "cell_type": "code",
   "execution_count": null,
   "metadata": {},
   "outputs": [],
   "source": [
    "M = 4 # dimensions\n",
    "N = 20 # sampling data\n",
    "xmin = 0\n",
    "xmax = 5\n",
    "xs = range(xmin, xmax, length=100)\n",
    "x_sample = xmin .+ (xmax-xmin) .* rand(N)\n",
    "\n",
    "lambda = 10 # accuracy parameter\n",
    "dist_epsilon = Normal(0, lambda^(-1))\n",
    "epsilon = rand(dist_epsilon, N) # noise epsilon\n",
    "\n",
    "# parameters\n",
    "m = zeros(M)\n",
    "l_lambda = Matrix{Float64}(I, M, M)"
   ]
  },
  {
   "cell_type": "code",
   "execution_count": null,
   "metadata": {},
   "outputs": [],
   "source": [
    "function polynomial(x)\n",
    "    return [1.0, x, x^2, x^3]\n",
    "end\n",
    "\n",
    "function true_func(x, gain, omega)\n",
    "    return gain * sin(x * omega)\n",
    "end\n",
    "\n",
    "function sampling_y(x, gain, omega, var=1.0)\n",
    "    dist_y = Normal(true_func(x, gain, omega), var)\n",
    "    return rand(dist_y, 1)[1]\n",
    "end"
   ]
  },
  {
   "cell_type": "code",
   "execution_count": null,
   "metadata": {},
   "outputs": [],
   "source": [
    "# smapling weight\n",
    "l_lambda_inv = inv(l_lambda)\n",
    "ws = rand(MultivariateNormal(m, diag(l_lambda_inv)), 5)'\n",
    "\n",
    "f(i) = [dot(ws[i, :], polynomial(x)) for x in range(-1, 1, length=1000)]\n",
    "g() = [f(i) for i in 1:5]\n",
    "\n",
    "sample_prior = g()\n",
    "plot(range(-1, 1, length=1000), sample_prior)"
   ]
  },
  {
   "cell_type": "code",
   "execution_count": null,
   "metadata": {},
   "outputs": [],
   "source": [
    "gain = 1\n",
    "omega = 0.5\n",
    "\n",
    "# true distribution\n",
    "f() = [true_func(x, gain, omega) for x in xs]\n",
    "y_line = f()\n",
    "\n",
    "# measured data\n",
    "f() = [sampling_y(x, gain, omega, 1.0/lambda)+epsilon[i] for (i, x) in enumerate(x_sample)]\n",
    "y_true = f()\n",
    "\n",
    "plot(x_sample, y_true, seriestype=:scatter, label=\"measured\")\n",
    "plot!(xs, y_line, label=\"true\")"
   ]
  },
  {
   "cell_type": "markdown",
   "metadata": {},
   "source": [
    "----\n",
    "### 事後分布\n",
    "\n",
    "$$ p(\\mathbf{w}|\\mathbf{Y},\\mathbf{X})=N(\\mathbf{w}|\\mathbf{\\hat{m}},\\mathbf{\\hat{\\Lambda}}^{-1}) $$\n",
    "$$ \\mathbf{\\hat{\\Lambda}} = \\lambda \\sum^{N}_{n=1} \\mathbf{x}_{n}\\mathbf{x}^{\\top}_{n} + \\mathbf{\\Lambda} $$\n",
    "$$ \\mathbf{\\hat{m}} = \\mathbf{\\hat{\\Lambda}}^{-1} \\lambda (\\sum^{N}_{n=1} y_{n}\\mathbf{x}_{n} + \\mathbf{\\Lambda}\\mathbf{m}) $$"
   ]
  },
  {
   "cell_type": "code",
   "execution_count": null,
   "metadata": {},
   "outputs": [],
   "source": [
    "println(\"lambda:\", lambda)\n",
    "l_lambda"
   ]
  },
  {
   "cell_type": "code",
   "execution_count": null,
   "metadata": {},
   "outputs": [],
   "source": [
    "# calculation large lambda hat\n",
    "f() = [polynomial(x)*polynomial(x)' for x in x_sample]\n",
    "sum_x = sum(f())\n",
    "\n",
    "l_lambda_hat = lambda * sum_x .+ l_lambda\n",
    "l_lambda_hat_inv = inv(l_lambda_hat)\n",
    "println(\"Large lambda hat\")\n",
    "l_lambda_hat"
   ]
  },
  {
   "cell_type": "code",
   "execution_count": null,
   "metadata": {},
   "outputs": [],
   "source": [
    "# calculation m_hat\n",
    "f() = [polynomial(x)*y_true[i] for (i, x) in enumerate(x_sample)]\n",
    "sum_xy = sum(f())\n",
    "println(\"sum_xy:\", sum_xy)\n",
    "\n",
    "m_hat = l_lambda_hat_inv * lambda * sum_xy + l_lambda * m\n",
    "print(\"m_hat:\", m_hat)"
   ]
  },
  {
   "cell_type": "code",
   "execution_count": null,
   "metadata": {},
   "outputs": [],
   "source": [
    "# calc weight\n",
    "ws_pred = rand(MultivariateNormal(m_hat, diag(l_lambda_hat_inv)), 5)'"
   ]
  },
  {
   "cell_type": "code",
   "execution_count": null,
   "metadata": {},
   "outputs": [],
   "source": [
    "# plot prediction\n",
    "f(i) = [dot(ws_pred[i, :], polynomial(x)) for x in xs]\n",
    "g() = [f(i) for i in 1:5]\n",
    "\n",
    "sample_prior = g()\n",
    "plot!(xs, sample_prior, label=\"predict\")"
   ]
  },
  {
   "cell_type": "markdown",
   "metadata": {},
   "source": [
    "----\n",
    "### 予測分布\n",
    "\n",
    "$$\n",
    "p(y_{*}|\\mathbf{x_{*}}) = N(y_{*}|\\mu_{*},\\lambda_{*}^{-1})\\\\\n",
    "\\mu_{*} = \\hat{\\mathbf{m}}^{\\top}\\mathbf{x}_{*} \\\\\n",
    "\\lambda_{*}^{-1} = \\lambda^{-1}+\\mathbf{x}_{*}^{\\top}\\hat{\\mathbf{\\Lambda}}^{-1}\\mathbf{x}_{*}\n",
    "$$"
   ]
  },
  {
   "cell_type": "code",
   "execution_count": null,
   "metadata": {},
   "outputs": [],
   "source": [
    "# μ*\n",
    "f() = [m_hat' * polynomial(x) for x in xs]\n",
    "mu_star = f()\n",
    "\n",
    "# lambda*\n",
    "function lambda_pred(x, l_lambda_hat_inv, lambda)\n",
    "    return lambda^(-1) + polynomial(x)' * l_lambda_hat_inv * polynomial(x)\n",
    "end\n",
    "f() = [lambda_pred(x, l_lambda_hat_inv, lambda) for x in xs]\n",
    "var_star = f()\n",
    "print()"
   ]
  },
  {
   "cell_type": "code",
   "execution_count": null,
   "metadata": {},
   "outputs": [],
   "source": [
    "plot(x_sample, y_true, seriestype=:scatter, label=\"measured\")\n",
    "plot!(xs, y_line, label=\"true\")\n",
    "plot!(xs, sample_prior, label=\"predict\", color=\"black\")\n",
    "\n",
    "# mean predicted function\n",
    "plot!(xs, mu_star, label=\"mean\", color=\"green\")"
   ]
  },
  {
   "cell_type": "code",
   "execution_count": null,
   "metadata": {},
   "outputs": [],
   "source": [
    "# plotting forecast variance\n",
    "plot(xs, var_star, label=\"forecast variance\")"
   ]
  }
 ],
 "metadata": {
  "kernelspec": {
   "display_name": "Julia 1.4.2",
   "language": "julia",
   "name": "julia-1.4"
  },
  "language_info": {
   "file_extension": ".jl",
   "mimetype": "application/julia",
   "name": "julia",
   "version": "1.4.2"
  }
 },
 "nbformat": 4,
 "nbformat_minor": 4
}
