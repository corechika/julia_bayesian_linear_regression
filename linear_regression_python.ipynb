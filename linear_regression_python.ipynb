{
 "cells": [
  {
   "cell_type": "markdown",
   "metadata": {},
   "source": [
    "# ベイズ推論による機械学習\n",
    "\n",
    "## 線型回帰"
   ]
  },
  {
   "cell_type": "code",
   "execution_count": null,
   "metadata": {},
   "outputs": [],
   "source": [
    "import numpy as np\n",
    "from scipy import stats\n",
    "import matplotlib.pyplot as plt\n",
    "%matplotlib inline"
   ]
  },
  {
   "cell_type": "code",
   "execution_count": null,
   "metadata": {},
   "outputs": [],
   "source": [
    "M = 4 # dimensions\n",
    "N = 100\n",
    "xmin = 0\n",
    "xmax = 5\n",
    "n_sample = 10\n",
    "xs = np.linspace(xmin, xmax, num=N)\n",
    "x_sample = xmin + (xmax-xmin) * np.random.rand(n_sample)\n",
    "\n",
    "p_lambda = 50\n",
    "epsilon = stats.norm.rvs(loc=0, scale=1.0/p_lambda, size=n_sample)\n",
    "\n",
    "# weight\n",
    "m = np.zeros(M)\n",
    "l_lambda = np.identity(M)"
   ]
  },
  {
   "cell_type": "code",
   "execution_count": null,
   "metadata": {},
   "outputs": [],
   "source": [
    "def true_func(x):\n",
    "    y = 1 * np.sin(x * 0.5)\n",
    "    return y\n",
    "def calc_input(x):\n",
    "    return [1.0, x, x**2, x**3]\n",
    "def sampling_input(x, var=1.0):\n",
    "    ty = true_func(x)\n",
    "    return stats.norm.rvs(loc=ty, scale=np.sqrt(var))"
   ]
  },
  {
   "cell_type": "code",
   "execution_count": null,
   "metadata": {},
   "outputs": [],
   "source": [
    "# smapling weight\n",
    "l_lambda_inv = np.linalg.inv(l_lambda)\n",
    "\n",
    "ws = stats.multivariate_normal.rvs(mean=m, cov=l_lambda_inv, size=5)\n",
    "\n",
    "plt.figure(dpi=150)\n",
    "for w in ws:\n",
    "    sample_prior = [np.dot(w, calc_input(x)) for x in np.linspace(-1, 1, num=N)]\n",
    "    plt.plot(np.linspace(-1, 1, num=N), sample_prior, '-')"
   ]
  },
  {
   "cell_type": "code",
   "execution_count": null,
   "metadata": {},
   "outputs": [],
   "source": [
    "# true distribution\n",
    "y_line = [true_func(x) for x in xs]\n",
    "\n",
    "# measured data\n",
    "y_true = [sampling_input(x, 1.0/p_lambda)+epsilon[i] for i, x in enumerate(x_sample)]\n",
    "\n",
    "# plot\n",
    "plt.figure(dpi=150)\n",
    "plt.scatter(x_sample, y_true, label='data', color='orange')\n",
    "plt.plot(xs, y_line, label='true')\n",
    "plt.legend()"
   ]
  },
  {
   "cell_type": "markdown",
   "metadata": {},
   "source": [
    "----\n",
    "### 事後分布\n",
    "\n",
    "$$ p(\\vec{w}|\\vec{Y},\\vec{X})=N(\\vec{w}|\\vec{\\hat{m}},\\vec{\\hat{\\Lambda}}^{-1}) $$\n",
    "$$ \\vec{\\hat{\\Lambda}} = \\lambda \\sum^{N}_{n=1} \\vec{x}_{n}\\vec{x}^{T}_{n} + \\vec{\\Lambda} $$\n",
    "$$ \\vec{\\hat{m}} = \\vec{\\hat{\\Lambda}}^{-1} \\lambda (\\sum^{N}_{n=1} y_{n}\\vec{x}_{n} + \\vec{\\Lambda}\\vec{m}) $$"
   ]
  },
  {
   "cell_type": "code",
   "execution_count": null,
   "metadata": {},
   "outputs": [],
   "source": [
    "print('p_lambda:', p_lambda)\n",
    "l_lambda"
   ]
  },
  {
   "cell_type": "code",
   "execution_count": null,
   "metadata": {},
   "outputs": [],
   "source": [
    "# calculation large lambda hat\n",
    "sum_x = sum([np.outer(calc_input(x), calc_input(x)) for x in x_sample])\n",
    "print(\"sum_x:\", sum_x)\n",
    "\n",
    "l_lambda_hat = p_lambda * sum_x + l_lambda\n",
    "l_lambda_hat"
   ]
  },
  {
   "cell_type": "code",
   "execution_count": null,
   "metadata": {},
   "outputs": [],
   "source": [
    "# calculation m_hat\n",
    "sum_xy = sum([np.array(calc_input(x))*y for x, y in zip(x_sample, y_true)])\n",
    "print('sum_xy:', sum_xy)\n",
    "\n",
    "buff = p_lambda * sum_xy\n",
    "m_hat = np.dot(np.linalg.inv(l_lambda_hat), buff)# + l_lambda * m\n",
    "print(\"m_hat:\", m_hat)"
   ]
  },
  {
   "cell_type": "code",
   "execution_count": null,
   "metadata": {},
   "outputs": [],
   "source": [
    "# calc weight\n",
    "l_lambda_hat_inv = np.linalg.inv(l_lambda_hat)\n",
    "sample_post_ws = stats.multivariate_normal.rvs(mean=m_hat, cov=l_lambda_hat_inv, size=n_sample)"
   ]
  },
  {
   "cell_type": "code",
   "execution_count": null,
   "metadata": {},
   "outputs": [],
   "source": [
    "# plot\n",
    "plt.figure(dpi=150)\n",
    "for w in ws:\n",
    "    sample_prior = [np.dot(sample_post_ws, calc_input(x)) for x in xs]\n",
    "    plt.plot(xs, sample_prior, '-')\n",
    "\n",
    "plt.plot(xs, y_line, '--', label='true')\n",
    "plt.plot(x_sample, y_true, 'o', label='sample')\n",
    "plt.legend()"
   ]
  }
 ],
 "metadata": {
  "kernelspec": {
   "display_name": "Python 3",
   "language": "python",
   "name": "python3"
  },
  "language_info": {
   "codemirror_mode": {
    "name": "ipython",
    "version": 3
   },
   "file_extension": ".py",
   "mimetype": "text/x-python",
   "name": "python",
   "nbconvert_exporter": "python",
   "pygments_lexer": "ipython3",
   "version": "3.7.7"
  }
 },
 "nbformat": 4,
 "nbformat_minor": 4
}
